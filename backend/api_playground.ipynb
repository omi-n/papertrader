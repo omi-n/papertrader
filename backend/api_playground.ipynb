{
 "cells": [
  {
   "cell_type": "code",
   "execution_count": null,
   "metadata": {},
   "outputs": [],
   "source": [
    "import requests"
   ]
  },
  {
   "cell_type": "code",
   "execution_count": null,
   "metadata": {},
   "outputs": [],
   "source": [
    "resp = requests.get(\"http://localhost:8000/api/tickers/\")\n",
    "resp"
   ]
  },
  {
   "cell_type": "code",
   "execution_count": null,
   "metadata": {},
   "outputs": [],
   "source": [
    "resp.json()"
   ]
  },
  {
   "cell_type": "code",
   "execution_count": null,
   "metadata": {},
   "outputs": [],
   "source": [
    "resp = requests.get(\"http://localhost:8000/api/yfinance/history/AAPL&1m\")\n",
    "resp.json()"
   ]
  },
  {
   "cell_type": "code",
   "execution_count": null,
   "metadata": {},
   "outputs": [],
   "source": [
    "resp = requests.get(\"http://localhost:8000/api/yfinance/financials/AAPL\")\n",
    "resp.json()[\"income_statement\"]"
   ]
  },
  {
   "cell_type": "code",
   "execution_count": null,
   "metadata": {},
   "outputs": [],
   "source": [
    "token = requests.post(\n",
    "    \"http://localhost:8000/auth/token/\",\n",
    "    data={\"username\": \"testuser\", \"password\": \"testpassword\"},\n",
    ")"
   ]
  },
  {
   "cell_type": "code",
   "execution_count": null,
   "metadata": {},
   "outputs": [],
   "source": [
    "access_token = token.json()[\"access\"]"
   ]
  },
  {
   "cell_type": "code",
   "execution_count": null,
   "metadata": {},
   "outputs": [],
   "source": [
    "access_token"
   ]
  },
  {
   "cell_type": "code",
   "execution_count": null,
   "metadata": {},
   "outputs": [],
   "source": [
    "# try to get balance\n",
    "resp = requests.get(\n",
    "    \"http://localhost:8000/api/user/balance/\",\n",
    "    headers={\"Authorization\": f\"{access_token}\"},\n",
    ")\n",
    "resp.json()"
   ]
  },
  {
   "cell_type": "code",
   "execution_count": null,
   "metadata": {},
   "outputs": [],
   "source": [
    "resp = requests.post(\n",
    "    \"http://localhost:8000/api/user/balance/\",\n",
    "    headers={\"Authorization\": f\"{access_token}\"},\n",
    "    data={\"amount\": 1000},\n",
    ")\n",
    "resp.json()"
   ]
  },
  {
   "cell_type": "code",
   "execution_count": null,
   "metadata": {},
   "outputs": [],
   "source": [
    "resp = requests.get(\n",
    "    \"http://localhost:8000/api/user/transaction/\",\n",
    "    headers={\"Authorization\": f\"{access_token}\"},\n",
    ")\n",
    "resp.json()"
   ]
  },
  {
   "cell_type": "code",
   "execution_count": null,
   "metadata": {},
   "outputs": [],
   "source": [
    "data = {\n",
    "    \"ticker\": \"AAPL\",\n",
    "    \"amount\": 1,\n",
    "    \"price\": 130.0,\n",
    "}\n",
    "\n",
    "resp = requests.post(\n",
    "    \"http://localhost:8000/api/user/stock/\",\n",
    "    data=data,\n",
    "    headers={\"Authorization\": f\"{access_token}\"},\n",
    ")\n",
    "resp.json()"
   ]
  },
  {
   "cell_type": "code",
   "execution_count": null,
   "metadata": {},
   "outputs": [],
   "source": [
    "data = {\n",
    "    \"ticker\": \"AAPL\",\n",
    "    \"amount\": -1,\n",
    "    \"price\": 130.0,\n",
    "}\n",
    "\n",
    "resp = requests.post(\n",
    "    \"http://localhost:8000/api/user/stock/\",\n",
    "    data=data,\n",
    "    headers={\"Authorization\": f\"{access_token}\"},\n",
    ")\n",
    "resp.json()"
   ]
  },
  {
   "cell_type": "code",
   "execution_count": null,
   "metadata": {},
   "outputs": [],
   "source": [
    "resp = requests.get(\n",
    "    \"http://localhost:8000/api/user/stock/\",\n",
    "    headers={\"Authorization\": f\"{access_token}\"},\n",
    ")\n",
    "resp.json()"
   ]
  },
  {
   "cell_type": "code",
   "execution_count": null,
   "metadata": {},
   "outputs": [],
   "source": []
  }
 ],
 "metadata": {
  "kernelspec": {
   "display_name": "django",
   "language": "python",
   "name": "python3"
  },
  "language_info": {
   "codemirror_mode": {
    "name": "ipython",
    "version": 3
   },
   "file_extension": ".py",
   "mimetype": "text/x-python",
   "name": "python",
   "nbconvert_exporter": "python",
   "pygments_lexer": "ipython3",
   "version": "3.12.2"
  }
 },
 "nbformat": 4,
 "nbformat_minor": 2
}
