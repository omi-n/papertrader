{
 "cells": [
  {
   "cell_type": "code",
   "execution_count": null,
   "metadata": {},
   "outputs": [],
   "source": [
    "import requests\n",
    "import pandas as pd"
   ]
  },
  {
   "cell_type": "code",
   "execution_count": null,
   "metadata": {},
   "outputs": [],
   "source": [
    "# load screener\n",
    "screener = pd.read_csv(\"paper_api/nasdaq_screener.csv\")\n",
    "\n",
    "screener = screener.fillna(\"unknown\")"
   ]
  },
  {
   "cell_type": "code",
   "execution_count": null,
   "metadata": {},
   "outputs": [],
   "source": [
    "screener.head()"
   ]
  },
  {
   "cell_type": "code",
   "execution_count": null,
   "metadata": {},
   "outputs": [],
   "source": [
    "for tick in screener.iterrows():\n",
    "    symbol = tick[1]['Symbol']\n",
    "    name = tick[1]['Name']\n",
    "    country = tick[1]['Country']\n",
    "    sector = tick[1]['Sector']\n",
    "    industry = tick[1]['Industry']\n",
    "    \n",
    "    resp = requests.post('http://localhost:8000/api/ticker/', json={\n",
    "        \"ticker\": symbol,\n",
    "        \"name\": name,\n",
    "        \"country\": country,\n",
    "        \"sector\": sector,\n",
    "        \"industry\": industry\n",
    "    })"
   ]
  },
  {
   "cell_type": "code",
   "execution_count": null,
   "metadata": {},
   "outputs": [],
   "source": [
    "resp = requests.get(\"http://localhost:8000/api/tickers/\")\n",
    "resp"
   ]
  },
  {
   "cell_type": "code",
   "execution_count": null,
   "metadata": {},
   "outputs": [],
   "source": [
    "resp.json()"
   ]
  },
  {
   "cell_type": "code",
   "execution_count": 8,
   "metadata": {},
   "outputs": [
    {
     "data": {
      "text/plain": [
       "{'history': {'Open': [169.60000610351562],\n",
       "  'High': [170.61000061035156],\n",
       "  'Low': [168.15109252929688],\n",
       "  'Close': [169.88999938964844],\n",
       "  'Volume': [49712820],\n",
       "  'Dividends': [0.0],\n",
       "  'Stock Splits': [0.0]},\n",
       " 'metadata': {'currency': 'USD',\n",
       "  'symbol': 'AAPL',\n",
       "  'exchangeName': 'NMS',\n",
       "  'fullExchangeName': 'NasdaqGS',\n",
       "  'instrumentType': 'EQUITY',\n",
       "  'firstTradeDate': 345479400,\n",
       "  'regularMarketTime': 1714075201,\n",
       "  'hasPrePostMarketData': True,\n",
       "  'gmtoffset': -14400,\n",
       "  'timezone': 'EDT',\n",
       "  'exchangeTimezoneName': 'America/New_York',\n",
       "  'regularMarketPrice': 169.89,\n",
       "  'fiftyTwoWeekHigh': 170.61,\n",
       "  'fiftyTwoWeekLow': 168.151,\n",
       "  'regularMarketDayHigh': 170.61,\n",
       "  'regularMarketDayLow': 168.151,\n",
       "  'regularMarketVolume': 49712820,\n",
       "  'chartPreviousClose': 169.02,\n",
       "  'priceHint': 2,\n",
       "  'currentTradingPeriod': {'pre': {'timezone': 'EDT',\n",
       "    'start': 1714032000,\n",
       "    'end': 1714051800,\n",
       "    'gmtoffset': -14400},\n",
       "   'regular': {'timezone': 'EDT',\n",
       "    'start': 1714051800,\n",
       "    'end': 1714075200,\n",
       "    'gmtoffset': -14400},\n",
       "   'post': {'timezone': 'EDT',\n",
       "    'start': 1714075200,\n",
       "    'end': 1714089600,\n",
       "    'gmtoffset': -14400}},\n",
       "  'dataGranularity': '1d',\n",
       "  'range': '1m',\n",
       "  'validRanges': ['1d',\n",
       "   '5d',\n",
       "   '1mo',\n",
       "   '3mo',\n",
       "   '6mo',\n",
       "   '1y',\n",
       "   '2y',\n",
       "   '5y',\n",
       "   '10y',\n",
       "   'ytd',\n",
       "   'max']}}"
      ]
     },
     "execution_count": 8,
     "metadata": {},
     "output_type": "execute_result"
    }
   ],
   "source": [
    "resp = requests.get(\"http://localhost:8000/api/yfinance/history/AAPL&1m\")\n",
    "resp.json()"
   ]
  },
  {
   "cell_type": "code",
   "execution_count": null,
   "metadata": {},
   "outputs": [],
   "source": [
    "resp = requests.get(\"http://localhost:8000/api/yfinance/financials/AAPL\")\n",
    "resp.json()[\"income_statement\"]"
   ]
  },
  {
   "cell_type": "code",
   "execution_count": null,
   "metadata": {},
   "outputs": [],
   "source": []
  }
 ],
 "metadata": {
  "kernelspec": {
   "display_name": "django",
   "language": "python",
   "name": "python3"
  },
  "language_info": {
   "codemirror_mode": {
    "name": "ipython",
    "version": 3
   },
   "file_extension": ".py",
   "mimetype": "text/x-python",
   "name": "python",
   "nbconvert_exporter": "python",
   "pygments_lexer": "ipython3",
   "version": "3.12.2"
  }
 },
 "nbformat": 4,
 "nbformat_minor": 2
}
